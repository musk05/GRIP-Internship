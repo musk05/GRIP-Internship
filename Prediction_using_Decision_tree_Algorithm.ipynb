{
  "nbformat": 4,
  "nbformat_minor": 0,
  "metadata": {
    "colab": {
      "name": "Prediction using Decision tree Algorithm.ipynb",
      "provenance": [],
      "authorship_tag": "ABX9TyNZFqwwN4/hJyv2n1yplJif",
      "include_colab_link": true
    },
    "kernelspec": {
      "name": "python3",
      "display_name": "Python 3"
    }
  },
  "cells": [
    {
      "cell_type": "markdown",
      "metadata": {
        "id": "view-in-github",
        "colab_type": "text"
      },
      "source": [
        "<a href=\"https://colab.research.google.com/github/musk05/GRIP-Internship/blob/main/Prediction_using_Decision_tree_Algorithm.ipynb\" target=\"_parent\"><img src=\"https://colab.research.google.com/assets/colab-badge.svg\" alt=\"Open In Colab\"/></a>"
      ]
    },
    {
      "cell_type": "markdown",
      "metadata": {
        "id": "2TU7ee_A0Yqs"
      },
      "source": [
        "Importing necessary libraries"
      ]
    },
    {
      "cell_type": "code",
      "metadata": {
        "id": "vhhr18NPyRfp"
      },
      "source": [
        "import pandas as pd\n",
        "import seaborn as sns\n",
        "import numpy as np\n",
        "import matplotlib.pyplot as plt"
      ],
      "execution_count": null,
      "outputs": []
    },
    {
      "cell_type": "code",
      "metadata": {
        "id": "GE90zKh3z7Mb"
      },
      "source": [
        "Loading the data set"
      ],
      "execution_count": null,
      "outputs": []
    },
    {
      "cell_type": "code",
      "metadata": {
        "id": "Te-vG-eDySF4"
      },
      "source": [
        "df= pd.read_csv(\"iris.csv\")"
      ],
      "execution_count": null,
      "outputs": []
    },
    {
      "cell_type": "code",
      "metadata": {
        "id": "SlYIrakEySRs"
      },
      "source": [
        "df"
      ],
      "execution_count": null,
      "outputs": []
    },
    {
      "cell_type": "code",
      "metadata": {
        "id": "m-O9HdANyScA"
      },
      "source": [
        "df.info()"
      ],
      "execution_count": null,
      "outputs": []
    },
    {
      "cell_type": "code",
      "metadata": {
        "id": "jlu5A00Cz4qu"
      },
      "source": [
        "Found out that there's no null value"
      ],
      "execution_count": null,
      "outputs": []
    },
    {
      "cell_type": "code",
      "metadata": {
        "id": "yzS9XNCayfGn"
      },
      "source": [
        "df.columns"
      ],
      "execution_count": null,
      "outputs": []
    },
    {
      "cell_type": "markdown",
      "metadata": {
        "id": "3BoVHVXGz1d9"
      },
      "source": [
        "Data Preprocessing"
      ]
    },
    {
      "cell_type": "markdown",
      "metadata": {
        "id": "DbCu1IJ9zx2e"
      },
      "source": [
        "Performing label encoding to covert categorical data to numeric values"
      ]
    },
    {
      "cell_type": "code",
      "metadata": {
        "id": "SgVBu-RMycAK"
      },
      "source": [
        "from sklearn import preprocessing\n",
        "le = preprocessing.LabelEncoder()"
      ],
      "execution_count": null,
      "outputs": []
    },
    {
      "cell_type": "code",
      "metadata": {
        "id": "55mvRL93ycIy"
      },
      "source": [
        "import pandas as pd\n",
        "data = pd.DataFrame({'index':[0,1,2],\n",
        "        'Species':['Iris-setosa','Iris-versicolor','Iris-virginica']})\n",
        "print(data)"
      ],
      "execution_count": null,
      "outputs": []
    },
    {
      "cell_type": "code",
      "metadata": {
        "id": "Toh92EokydNu"
      },
      "source": [
        "df['Species_num']= le.fit_transform(df['Species'])"
      ],
      "execution_count": null,
      "outputs": []
    },
    {
      "cell_type": "markdown",
      "metadata": {
        "id": "L2nkU5l1zvR4"
      },
      "source": [
        "Dropping columns which are not needed for prediction"
      ]
    },
    {
      "cell_type": "code",
      "metadata": {
        "id": "H7sNbMTIydWm"
      },
      "source": [
        "df.drop(['Id'],axis = 1,inplace = True)"
      ],
      "execution_count": null,
      "outputs": []
    },
    {
      "cell_type": "code",
      "metadata": {
        "id": "9y2FIeQtydfR"
      },
      "source": [
        "df['Species_num'].unique()"
      ],
      "execution_count": null,
      "outputs": []
    },
    {
      "cell_type": "code",
      "metadata": {
        "id": "G0AOFdjAydnR"
      },
      "source": [
        "df['Species'].unique()"
      ],
      "execution_count": null,
      "outputs": []
    },
    {
      "cell_type": "code",
      "metadata": {
        "id": "-WTIpn_lydv5"
      },
      "source": [
        "df.head()"
      ],
      "execution_count": null,
      "outputs": []
    },
    {
      "cell_type": "code",
      "metadata": {
        "id": "eC7adlI4yxhj"
      },
      "source": [
        "import pandas as pd\n",
        "from sklearn.preprocessing import LabelEncoder\n",
        "le = LabelEncoder()\n",
        "data = pd.DataFrame({'index':[0,1,2],\n",
        "        'Species':['Iris-setosa','Iris-versicolor','Iris-virginica']})\n",
        "print(data)"
      ],
      "execution_count": null,
      "outputs": []
    },
    {
      "cell_type": "markdown",
      "metadata": {
        "id": "X3i1Bv3lzpk5"
      },
      "source": [
        "Train and Test Split"
      ]
    },
    {
      "cell_type": "code",
      "metadata": {
        "id": "ReK8Cns0yx3H"
      },
      "source": [
        "from sklearn.model_selection import train_test_split"
      ],
      "execution_count": null,
      "outputs": []
    },
    {
      "cell_type": "markdown",
      "metadata": {
        "id": "e-GQhnijzkpM"
      },
      "source": [
        "splitting the data for training and testing\n",
        "Here the independent variable is Species_num"
      ]
    },
    {
      "cell_type": "code",
      "metadata": {
        "id": "P5NZMsqayyD9"
      },
      "source": [
        "\n",
        "X = df.iloc[:,[0,1,2,3]]   \n",
        "Y = df.iloc[:,[5]]    \n",
        "X_train, X_test, Y_train, Y_test = train_test_split(X, Y, random_state=0)"
      ],
      "execution_count": null,
      "outputs": []
    },
    {
      "cell_type": "code",
      "metadata": {
        "id": "6QTGcOVwyyOx"
      },
      "source": [
        "from sklearn.tree import DecisionTreeClassifier, plot_tree"
      ],
      "execution_count": null,
      "outputs": []
    },
    {
      "cell_type": "code",
      "metadata": {
        "id": "_2eGgZFZyyZI"
      },
      "source": [
        "from sklearn import tree\n",
        "clf = tree.DecisionTreeClassifier(random_state=0)\n",
        "clf = clf.fit(X,Y)"
      ],
      "execution_count": null,
      "outputs": []
    },
    {
      "cell_type": "markdown",
      "metadata": {
        "id": "s8h_l0GIzhjE"
      },
      "source": [
        " Text Representation of the Decision Tree classifier"
      ]
    },
    {
      "cell_type": "code",
      "metadata": {
        "id": "A61691SYy-fK"
      },
      "source": [
        "text_representation = tree.export_text(clf)\n",
        "print(text_representation)"
      ],
      "execution_count": null,
      "outputs": []
    },
    {
      "cell_type": "markdown",
      "metadata": {
        "id": "UV7Ol3PHzdo7"
      },
      "source": [
        "Graphical visualization of Decision Tree Classifier"
      ]
    },
    {
      "cell_type": "code",
      "metadata": {
        "id": "i2CaO00ay_Rc"
      },
      "source": [
        "clf = DecisionTreeClassifier().fit(X,Y)\n",
        "plt.figure(figsize = (20,20))\n",
        "tree.plot_tree(clf.fit(X, Y), filled = True,fontsize = 12)\n",
        "plt.show()"
      ],
      "execution_count": null,
      "outputs": []
    },
    {
      "cell_type": "markdown",
      "metadata": {
        "id": "AS45Q0-DzZVn"
      },
      "source": [
        "Model Fitting"
      ]
    },
    {
      "cell_type": "code",
      "metadata": {
        "id": "EgIp8T-izHaT"
      },
      "source": [
        "clf.fit(X_train,Y_train)"
      ],
      "execution_count": null,
      "outputs": []
    },
    {
      "cell_type": "code",
      "metadata": {
        "id": "DpNfKXE1zIA4"
      },
      "source": [
        "y_pred = clf.predict(X_test)\n",
        "y_pred"
      ],
      "execution_count": null,
      "outputs": []
    },
    {
      "cell_type": "code",
      "metadata": {
        "id": "p4MwrReHzIKV"
      },
      "source": [
        "clf.score(X_test, Y_test)"
      ],
      "execution_count": null,
      "outputs": []
    },
    {
      "cell_type": "markdown",
      "metadata": {
        "id": "QvIQ18O1zUs0"
      },
      "source": [
        "### To predict the right class accordingly if we feed any new data to the classifier"
      ]
    },
    {
      "cell_type": "code",
      "metadata": {
        "id": "Bk4Wh3AlzIdx"
      },
      "source": [
        "import numpy as np\n",
        "new_prediction = clf.predict(np.array([[5.1,3.5,1.4,0.2]]))\n",
        "print(\"Predicted class:\" , new_prediction)"
      ],
      "execution_count": null,
      "outputs": []
    }
  ]
}